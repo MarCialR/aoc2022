{
 "cells": [
  {
   "cell_type": "code",
   "execution_count": 1,
   "id": "2cb3aa46-eb3a-46d3-8986-120b9f8e4db1",
   "metadata": {
    "tags": []
   },
   "outputs": [
    {
     "data": {
      "text/markdown": [
       "## --- Day 1: Calorie Counting ---\n",
       "\n",
       "\n",
       "Santa's reindeer typically eat regular reindeer food, but they need a lot of [magical energy](/2018/day/25) to deliver presents on Christmas. For that, their favorite snack is a special type of **star** fruit that only grows deep in the jungle. The Elves have brought you on their annual expedition to the grove where the fruit grows.\n",
       "\n",
       "\n",
       "To supply enough magical energy, the expedition needs to retrieve a minimum of **fifty stars** by December 25th. Although the Elves assure you that the grove has plenty of fruit, you decide to grab any fruit you see along the way, just in case.\n",
       "\n",
       "\n",
       "Collect stars by solving puzzles.  Two puzzles will be made available on each day in the Advent calendar; the second puzzle is unlocked when you complete the first.  Each puzzle grants **one star** . Good luck!\n",
       "\n",
       "\n",
       "The jungle must be too overgrown and difficult to navigate in vehicles or access from the air; the Elves' expedition traditionally goes on foot. As your boats approach land, the Elves begin taking inventory of their supplies. One important consideration is food - in particular, the number of **Calories** each Elf is carrying (your puzzle input).\n",
       "\n",
       "\n",
       "The Elves take turns writing down the number of Calories contained by the various meals, snacks, rations,etc.that they've brought with them, one item per line. Each Elf separates their own inventory from the previous Elf's inventory (if any) by a blank line.\n",
       "\n",
       "\n",
       "For example, suppose the Elves finish writing their items' Calories and end up with the following list:\n",
       "\n",
       "\n",
       "```\n",
       " 1000\n",
       " 2000\n",
       " 3000\n",
       " \n",
       " 4000\n",
       " \n",
       " 5000\n",
       " 6000\n",
       " \n",
       " 7000\n",
       " 8000\n",
       " 9000\n",
       " \n",
       " 10000\n",
       "\n",
       "```\n",
       "\n",
       "\n",
       "This list represents the Calories of the food carried by five Elves:\n",
       "\n",
       "\n",
       "+ The first Elf is carrying food with1000``,2000``, and3000``Calories, a total of6000``Calories.\n",
       "+ The second Elf is carrying one food item with4000``Calories.\n",
       "+ The third Elf is carrying food with5000``and6000``Calories, a total of11000``Calories.\n",
       "+ The fourth Elf is carrying food with7000``,8000``, and9000``Calories, a total of24000``Calories.\n",
       "+ The fifth Elf is carrying one food item with10000``Calories.\n",
       "\n",
       "\n",
       "In case the Elves get hungry and need extra snacks, they need to know which Elf to ask: they'd like to know how many Calories are being carried by the Elf carrying the **most** Calories. In the example above, this is **24000``** (carried by the fourth Elf).\n",
       "\n",
       "\n",
       "Find the Elf carrying the most Calories. **How many total Calories is that Elf carrying?** \n",
       "\n",
       "\n"
      ]
     },
     "metadata": {},
     "output_type": "display_data"
    }
   ],
   "source": [
    "from tools import get_puzzle, show_puzzle\n",
    "TODAY = 1\n",
    "puzzle = get_puzzle(TODAY)\n",
    "show_puzzle(puzzle)"
   ]
  },
  {
   "cell_type": "code",
   "execution_count": 2,
   "id": "a7f01e94-39bb-4803-bf68-92a5a27494f7",
   "metadata": {},
   "outputs": [
    {
     "name": "stdout",
     "output_type": "stream",
     "text": [
      "Solution 1: 70698\n"
     ]
    }
   ],
   "source": [
    "def backpack_generator(datalines):\n",
    "    accum = 0\n",
    "    for line in datalines:\n",
    "        if not line:\n",
    "            yield accum\n",
    "            accum =0\n",
    "        else:\n",
    "            accum += int(line)\n",
    "\n",
    "def max(cal_list):\n",
    "    max = -1\n",
    "    for cal in cal_list:\n",
    "        if cal > max:\n",
    "            max = cal\n",
    "            \n",
    "    assert max > -1\n",
    "    return max\n",
    "\n",
    "print (f\"Solution 1: {max(backpack_generator(puzzle.data))}\")"
   ]
  },
  {
   "cell_type": "code",
   "execution_count": 1,
   "id": "2c418f46-e677-42a2-bc3a-592ded80bf9d",
   "metadata": {},
   "outputs": [
    {
     "data": {
      "text/markdown": [
       "## --- Part Two ---\n",
       "\n",
       "\n",
       "By the time you calculate the answer to the Elves' question, they've already realized that the Elf carrying the most Calories of food might eventually **run out of snacks** .\n",
       "\n",
       "\n",
       "To avoid this unacceptable situation, the Elves would instead like to know the total Calories carried by the **top three** Elves carrying the most Calories. That way, even if one of those Elves runs out of snacks, they still have two backups.\n",
       "\n",
       "\n",
       "In the example above, the top three Elves are the fourth Elf (with```\n",
       " 24000\n",
       "\n",
       "```Calories), then the third Elf (with```\n",
       " 11000\n",
       "\n",
       "```Calories), then the fifth Elf (with```\n",
       " 10000\n",
       "\n",
       "```Calories). The sum of the Calories carried by these three elves is45000``.\n",
       "\n",
       "\n",
       "Find the top three Elves carrying the most Calories. **How many Calories are those Elves carrying in total?** \n",
       "\n",
       "\n"
      ]
     },
     "metadata": {},
     "output_type": "display_data"
    }
   ],
   "source": [
    "from get_puzzle import AoCParser\n",
    "from IPython.display import display_markdown\n",
    "\n",
    "def get_data(day):\n",
    "    with open(\"./description1_part2.txt\") as f:\n",
    "        data = f.read()\n",
    "    return data\n",
    "\n",
    "parser = AoCParser(False)\n",
    "parser.feed(get_data(1))\n",
    "\n",
    "display_markdown(parser.out, raw=True)"
   ]
  },
  {
   "cell_type": "code",
   "execution_count": 4,
   "id": "1689e527-344b-4dfa-99f0-4c80f191417b",
   "metadata": {},
   "outputs": [
    {
     "name": "stdout",
     "output_type": "stream",
     "text": [
      "Solution 1: 206643\n"
     ]
    }
   ],
   "source": [
    "ordered = sorted(backpack_generator(puzzle.data))\n",
    "print (f\"Solution 1: {sum(ordered[-3:])}\")\n"
   ]
  },
  {
   "cell_type": "code",
   "execution_count": null,
   "id": "ab735ad7-1f36-491b-9244-bffcfe59c0a9",
   "metadata": {},
   "outputs": [],
   "source": []
  }
 ],
 "metadata": {
  "kernelspec": {
   "display_name": "Python 3 (ipykernel)",
   "language": "python",
   "name": "python3"
  },
  "language_info": {
   "codemirror_mode": {
    "name": "ipython",
    "version": 3
   },
   "file_extension": ".py",
   "mimetype": "text/x-python",
   "name": "python",
   "nbconvert_exporter": "python",
   "pygments_lexer": "ipython3",
   "version": "3.9.10"
  }
 },
 "nbformat": 4,
 "nbformat_minor": 5
}
