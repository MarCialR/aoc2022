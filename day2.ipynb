{
 "cells": [
  {
   "cell_type": "code",
   "execution_count": 1,
   "id": "2cb3aa46-eb3a-46d3-8986-120b9f8e4db1",
   "metadata": {
    "tags": []
   },
   "outputs": [
    {
     "data": {
      "text/markdown": [
       "## --- Day 2: Rock Paper Scissors ---\n",
       "\n",
       "\n",
       "The Elves begin to set up camp on the beach. To decide whose tent gets to be closest to the snack storage, a giant [Rock Paper Scissors](https://en.wikipedia.org/wiki/Rock_paper_scissors) tournament is already in progress.\n",
       "\n",
       "\n",
       "Rock Paper Scissors is a game between two players. Each game contains many rounds; in each round, the players each simultaneously choose one of Rock, Paper, or Scissors using a hand shape. Then, a winner for that round is selected: Rock defeats Scissors, Scissors defeats Paper, and Paper defeats Rock. If both players choose the same shape, the round instead ends in a draw.\n",
       "\n",
       "\n",
       "Appreciative of your help yesterday, one Elf gives you an **encrypted strategy guide** (your puzzle input) that they say will be sure to help you win. \"The first column is what your opponent is going to play:A``for Rock,B``for Paper, andC``for Scissors. The second column--\" Suddenly, the Elf is called away to help with someone's tent.\n",
       "\n",
       "\n",
       "The second column,you reason, must be what you should play in response:X``for Rock,Y``for Paper, andZ``for Scissors. Winning every time would be suspicious, so the responses must have been carefully chosen.\n",
       "\n",
       "\n",
       "The winner of the whole tournament is the player with the highest score. Your **total score** is the sum of your scores for each round. The score for a single round is the score for the **shape you selected** (1 for Rock, 2 for Paper, and 3 for Scissors) plus the score for the **outcome of the round** (0 if you lost, 3 if the round was a draw, and 6 if you won).\n",
       "\n",
       "\n",
       "Since you can't be sure if the Elf is trying to help you or trick you, you should calculate the score you would get if you were to follow the strategy guide.\n",
       "\n",
       "\n",
       "For example, suppose you were given the following strategy guide:\n",
       "\n",
       "\n",
       "```\n",
       " A Y\n",
       " B X\n",
       " C Z\n",
       "\n",
       "```\n",
       "\n",
       "\n",
       "This strategy guide predicts and recommends the following:\n",
       "\n",
       "\n",
       "+ In the first round, your opponent will choose Rock (A``), and you should choose Paper (Y``). This ends in a win for you with a score of **8** (2 because you chose Paper + 6 because you won).\n",
       "+ In the second round, your opponent will choose Paper (B``), and you should choose Rock (X``). This ends in a loss for you with a score of **1** (1 + 0).\n",
       "+ The third round is a draw with both players choosing Scissors, giving you a score of 3 + 3 = **6** .\n",
       "\n",
       "\n",
       "In this example, if you were to follow the strategy guide, you would get a total score of15``(8 + 1 + 6).\n",
       "\n",
       "\n",
       " **What would your total score be if everything goes exactly according to your strategy guide?** \n",
       "\n",
       "\n"
      ]
     },
     "metadata": {},
     "output_type": "display_data"
    }
   ],
   "source": [
    "from tools import get_puzzle\n",
    "\n",
    "TODAY = 2\n",
    "puzzle = get_puzzle(TODAY)"
   ]
  },
  {
   "cell_type": "code",
   "execution_count": 2,
   "id": "44dddcf3-fdb8-46ec-86fb-c04eb1eade51",
   "metadata": {},
   "outputs": [
    {
     "name": "stdout",
     "output_type": "stream",
     "text": [
      "Total score if following strategy guide is: 14827\n"
     ]
    }
   ],
   "source": [
    "strategy_guide = [line.split() for line in puzzle.data]\n",
    "\n",
    "def substitute(char):\n",
    "    assert char in ['X','Y','Z','A','B','C']\n",
    "    if char in [\"A\",\"X\"]:\n",
    "        return 1\n",
    "    if char in [\"B\",\"Y\"]:\n",
    "        return 2\n",
    "    if char in [\"C\",\"Z\"]:\n",
    "        return 3\n",
    "\n",
    "rounds = [ (substitute(e[0]),substitute(e[1])) for e in strategy_guide]\n",
    "\n",
    "# given the small problem space I decided to code the rules \n",
    "# in a simple dict that converts the possible rounds\n",
    "# to the result each player would get\n",
    "round_to_result = {(1,1):(4,4),\n",
    "                   (1,2):(1,8),\n",
    "                   (1,3):(7,3),\n",
    "                   (2,2):(5,5),\n",
    "                   (2,1):(8,1),\n",
    "                   (2,3):(2,9),\n",
    "                   (3,3):(6,6),\n",
    "                   (3,1):(3,7),\n",
    "                   (3,2):(9,2)}\n",
    "\n",
    "results = [ round_to_result[r] for r in rounds]\n",
    "\n",
    "total_score = sum( res[1] for res in results)\n",
    "print ( \"Total score if following strategy guide is: \" + str(total_score))"
   ]
  },
  {
   "cell_type": "markdown",
   "id": "61d935d2-3abe-41ba-bd73-056cd72d3661",
   "metadata": {},
   "source": [
    "\n",
    "The Elf finishes helping with the tent and sneaks back over to you.  \n",
    "_\"Anyway, the second column says how the round needs to end: X means you need to lose, Y means you need to end the round in a draw, and Z means you need to win. Good luck!\"_  \n",
    "The total score is still calculated in the same way, but now you need to figure out what shape to choose so the round ends as indicated. The example above now goes like this:  \n",
    "In the first round, your opponent will choose Rock (A), and you need the round to end in a draw (Y), so you also choose Rock. This gives you a score of 1 + 3 = 4.\n",
    "In the second round, your opponent will choose Paper (B), and you choose Rock so you lose (X) with a score of 1 + 0 = 1.  \n",
    "In the third round, you will defeat your opponent's Scissors with Rock for a score of 1 + 6 = 7.  \n",
    "Now that you're correctly decrypting the ultra top secret strategy guide, you would get a total score of 12.  \n",
    "Following the Elf's instructions for the second column, **what would your total score be if everything goes exactly according to your strategy guide?**\n"
   ]
  },
  {
   "cell_type": "code",
   "execution_count": 3,
   "id": "ab735ad7-1f36-491b-9244-bffcfe59c0a9",
   "metadata": {},
   "outputs": [
    {
     "name": "stdout",
     "output_type": "stream",
     "text": [
      "Total score if forcing results is: 13889\n"
     ]
    }
   ],
   "source": [
    "forced_results = rounds\n",
    "\n",
    "# I won't go into creating functions to be executed for each round\n",
    "# or to use it to create the dict that holds the 9 possibilities\n",
    "# [ (play1,result): (play1, play2)]\n",
    "result_to_round = {(1,1):(1,3),\n",
    "                       (1,2):(1,1),\n",
    "                       (1,3):(1,2),\n",
    "                       (2,2):(2,2),\n",
    "                       (2,1):(2,1),\n",
    "                       (2,3):(2,3),\n",
    "                       (3,3):(3,1),\n",
    "                       (3,1):(3,2),\n",
    "                       (3,2):(3,3)}\n",
    "\n",
    "rounds = [result_to_round[result] for result in forced_results]\n",
    "\n",
    "total_score = sum(  round_to_result[r][1] for r in rounds)\n",
    "print ( \"Total score if forcing results is: \" + str(total_score))\n",
    "\n"
   ]
  }
 ],
 "metadata": {
  "kernelspec": {
   "display_name": "Python 3 (ipykernel)",
   "language": "python",
   "name": "python3"
  },
  "language_info": {
   "codemirror_mode": {
    "name": "ipython",
    "version": 3
   },
   "file_extension": ".py",
   "mimetype": "text/x-python",
   "name": "python",
   "nbconvert_exporter": "python",
   "pygments_lexer": "ipython3",
   "version": "3.9.10"
  }
 },
 "nbformat": 4,
 "nbformat_minor": 5
}
