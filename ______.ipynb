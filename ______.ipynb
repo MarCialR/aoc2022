{
 "cells": [
  {
   "cell_type": "code",
   "execution_count": 1,
   "id": "bdfe90d2-998e-4543-84fb-eb5dabfb750b",
   "metadata": {},
   "outputs": [
    {
     "name": "stdout",
     "output_type": "stream",
     "text": [
      "parsing\n"
     ]
    },
    {
     "data": {
      "text/markdown": [
       "## --- Day 7: No Space Left On Device ---\n",
       "\n",
       "\n",
       "You can hear birds chirping and raindrops hitting leaves as the expedition proceeds. Occasionally, you can even hear much louder sounds in the distance; how big do the animals get out here, anyway?\n",
       "\n",
       "\n",
       "The device the Elves gave you has problems with more than just its communication system. You try to run a system update:\n",
       "\n",
       "\n",
       "Error```\n",
       " $ system-update --please --pretty-please-with-sugar-on-top\n",
       " : No space left on device\n",
       "\n",
       "```\n",
       "\n",
       "\n",
       "Perhaps you can delete some files to make space for the update?\n",
       "\n",
       "\n",
       "You browse around the filesystem to assess the situation and save the resulting terminal output (your puzzle input). For example:\n",
       "\n",
       "\n",
       "```\n",
       " $ cd /\n",
       " $ ls\n",
       " dir a\n",
       " 14848514 b.txt\n",
       " 8504156 c.dat\n",
       " dir d\n",
       " $ cd a\n",
       " $ ls\n",
       " dir e\n",
       " 29116 f\n",
       " 2557 g\n",
       " 62596 h.lst\n",
       " $ cd e\n",
       " $ ls\n",
       " 584 i\n",
       " $ cd ..\n",
       " $ cd ..\n",
       " $ cd d\n",
       " $ ls\n",
       " 4060174 j\n",
       " 8033020 d.log\n",
       " 5626152 d.ext\n",
       " 7214296 k\n",
       "\n",
       "```\n",
       "\n",
       "\n",
       "The filesystem consists of a tree of files (plain data) and directories (which can contain other directories or files). The outermost directory is called/``. You can navigate around the filesystem, moving into or out of directories and listing the contents of the directory you're currently in.\n",
       "\n",
       "\n",
       "Within the terminal output, lines that begin with$``are **commands you executed** , very much like some modern computers:\n",
       "\n",
       "\n",
       "+ cd``means **change directory** . This changes which directory is the current directory, but the specific result depends on the argument:+ cd x``moves **in** one level: it looks in the current directory for the directory namedx``and makes it the current directory.\n",
       "+ cd ..``moves **out** one level: it finds the directory that contains the current directory, then makes that directory the current directory.\n",
       "+ cd /``switches the current directory to the outermost directory,/``.\n",
       "\n",
       "\n",
       "+ ls``means **list** . It prints out all of the files and directories immediately contained by the current directory:+ 123 abc``means that the current directory contains a file namedabc``with size123``.\n",
       "+ dir xyz``means that the current directory contains a directory namedxyz``.\n",
       "\n",
       "\n",
       "\n",
       "\n",
       "Given the commands and output in the example above, you can determine that the filesystem looks visually like this:\n",
       "\n",
       "\n",
       "```\n",
       " - / (dir)\n",
       "   - a (dir)\n",
       "     - e (dir)\n",
       "       - i (file, size=584)\n",
       "     - f (file, size=29116)\n",
       "     - g (file, size=2557)\n",
       "     - h.lst (file, size=62596)\n",
       "   - b.txt (file, size=14848514)\n",
       "   - c.dat (file, size=8504156)\n",
       "   - d (dir)\n",
       "     - j (file, size=4060174)\n",
       "     - d.log (file, size=8033020)\n",
       "     - d.ext (file, size=5626152)\n",
       "     - k (file, size=7214296)\n",
       "\n",
       "```\n",
       "\n",
       "\n",
       "Here, there are four directories:/``(the outermost directory),a``andd``(which are in/``), ande``(which is ina``). These directories also contain files of various sizes.\n",
       "\n",
       "\n",
       "Since the disk is full, your first step should probably be to find directories that are good candidates for deletion. To do this, you need to determine the **total size** of each directory. The total size of a directory is the sum of the sizes of the files it contains, directly or indirectly. (Directories themselves do not count as having any intrinsic size.)\n",
       "\n",
       "\n",
       "The total sizes of the directories above can be found as follows:\n",
       "\n",
       "\n",
       "+ The total size of directorye``is **584** because it contains a single filei``of size 584 and no other directories.\n",
       "+ The directorya``has total size **94853** because it contains filesf``(size 29116),g``(size 2557), andh.lst``(size 62596), plus filei``indirectly (a``containse``which containsi``).\n",
       "+ Directoryd``has total size **24933642** .\n",
       "+ As the outermost directory,/``contains every file. Its total size is **48381165** , the sum of the size of every file.\n",
       "\n",
       "\n",
       "To begin, find all of the directories with a total size of **at most 100000** , then calculate the sum of their total sizes. In the example above, these directories area``ande``; the sum of their total sizes is95437``(94853 + 584). (As in this example, this process can count files more than once!)\n",
       "\n",
       "\n",
       "Find all of the directories with a total size of at most 100000. **What is the sum of the total sizes of those directories?** \n",
       "\n",
       "\n"
      ]
     },
     "metadata": {},
     "output_type": "display_data"
    }
   ],
   "source": [
    "from tools import get_puzzle, show_problem_1\n",
    "TODAY = 7\n",
    "puzzle = get_puzzle(TODAY)\n",
    "show_problem_1(puzzle)"
   ]
  },
  {
   "cell_type": "code",
   "execution_count": 3,
   "id": "69fd6d58-b6fa-4520-a7c1-da00189d6e05",
   "metadata": {},
   "outputs": [
    {
     "name": "stdout",
     "output_type": "stream",
     "text": [
      "parsing\n"
     ]
    },
    {
     "data": {
      "text/markdown": [
       "## --- Part Two ---\n",
       "\n",
       "\n",
       "Now, you're ready to choose a directory to delete.\n",
       "\n",
       "\n",
       "The total disk space available to the filesystem is70000000``. To run the update, you need unused space of at least30000000``. You need to find a directory you can delete that will **free up enough space** to run the update.\n",
       "\n",
       "\n",
       "In the example above, the total size of the outermost directory (and thus the total amount of used space) is48381165``; this means that the size of the **unused** space must currently be21618835``, which isn't quite the30000000``required by the update. Therefore, the update still requires a directory with total size of at least8381165``to be deleted before it can run.\n",
       "\n",
       "\n",
       "To achieve this, you have the following options:\n",
       "\n",
       "\n",
       "+ Delete directorye``, which would increase unused space by584``.\n",
       "+ Delete directorya``, which would increase unused space by94853``.\n",
       "+ Delete directoryd``, which would increase unused space by24933642``.\n",
       "+ Delete directory/``, which would increase unused space by48381165``.\n",
       "\n",
       "\n",
       "Directoriese``anda``are both too small; deleting them would not free up enough space. However, directoriesd``and/``are both big enough! Between these, choose the **smallest** :d``, increasing unused space by24933642``.\n",
       "\n",
       "\n",
       "Find the smallest directory that, if deleted, would free up enough space on the filesystem to run the update. **What is the total size of that directory?** \n",
       "\n",
       "\n"
      ]
     },
     "metadata": {},
     "output_type": "display_data"
    }
   ],
   "source": [
    "from tools import show_problem_2\n",
    "show_problem_2(puzzle)"
   ]
  },
  {
   "cell_type": "code",
   "execution_count": null,
   "id": "7a104bc6-5516-4c10-a872-f87a370cd5d9",
   "metadata": {},
   "outputs": [],
   "source": []
  },
  {
   "cell_type": "code",
   "execution_count": null,
   "id": "6fbf8a01-950d-4e39-8e15-c2fd74ce9b5b",
   "metadata": {},
   "outputs": [],
   "source": []
  },
  {
   "cell_type": "code",
   "execution_count": null,
   "id": "11b8b94f-f993-4da5-950d-3ffbc284d7ef",
   "metadata": {},
   "outputs": [],
   "source": []
  },
  {
   "cell_type": "code",
   "execution_count": null,
   "id": "704642c8-ae5c-4f14-bbe4-032a55c0668f",
   "metadata": {},
   "outputs": [],
   "source": []
  },
  {
   "cell_type": "code",
   "execution_count": null,
   "id": "dfdfa17d-fa39-4752-8210-4a7aa9457592",
   "metadata": {},
   "outputs": [],
   "source": []
  },
  {
   "cell_type": "code",
   "execution_count": null,
   "id": "c1701c49-d2e9-4eb6-9459-20f874c59fe8",
   "metadata": {},
   "outputs": [],
   "source": []
  },
  {
   "cell_type": "code",
   "execution_count": null,
   "id": "f40bad78-a007-4b19-9332-b60799ac8c5d",
   "metadata": {},
   "outputs": [],
   "source": []
  },
  {
   "cell_type": "code",
   "execution_count": 10,
   "id": "37b82288-b397-48d7-96f0-9e63c810ec17",
   "metadata": {},
   "outputs": [
    {
     "name": "stdout",
     "output_type": "stream",
     "text": [
      "Jan 1 07:00 2022 | rbvaidyanathan jeromereid nobody\n",
      "Jan 1 23:59 2022 | nobody nobody\n",
      "Jan 2 07:00 2022 | rihabayachi jeromereid nobody\n",
      "Jan 2 23:59 2022 | nobody nobody\n",
      "Jan 3 07:00 2022 | marcialr jeromereid nobody\n",
      "Jan 3 23:59 2022 | nobody nobody\n",
      "Jan 4 07:00 2022 | momonir jeromereid nobody\n",
      "Jan 4 23:59 2022 | nobody nobody\n",
      "Jan 5 07:00 2022 | ailishkavanagh jeromereid nobody\n",
      "Jan 5 23:59 2022 | nobody nobody\n",
      "Jan 6 07:00 2022 | paglioni jeromereid nobody\n",
      "Jan 6 23:59 2022 | nobody nobody\n",
      "Jan 7 07:00 2022 | rbvaidyanathan jeromereid nobody\n",
      "Jan 7 23:59 2022 | nobody nobody\n",
      "Jan 8 07:00 2022 | rihabayachi jeromereid nobody\n",
      "Jan 8 23:59 2022 | nobody nobody\n",
      "Jan 9 07:00 2022 | marcialr jeromereid nobody\n",
      "Jan 9 23:59 2022 | nobody nobody\n",
      "Jan 10 07:00 2022 | momonir jeromereid nobody\n",
      "Jan 10 23:59 2022 | nobody nobody\n",
      "Jan 11 07:00 2022 | ailishkavanagh jeromereid nobody\n",
      "Jan 11 23:59 2022 | nobody nobody\n",
      "Jan 12 07:00 2022 | paglioni jeromereid nobody\n",
      "Jan 12 23:59 2022 | nobody nobody\n",
      "Jan 13 07:00 2022 | rbvaidyanathan jeromereid nobody\n",
      "Jan 13 23:59 2022 | nobody nobody\n",
      "Jan 14 07:00 2022 | rihabayachi jeromereid nobody\n",
      "Jan 14 23:59 2022 | nobody nobody\n",
      "Jan 15 07:00 2022 | marcialr jeromereid nobody\n",
      "Jan 15 23:59 2022 | nobody nobody\n",
      "Jan 16 07:00 2022 | momonir jeromereid nobody\n",
      "Jan 16 23:59 2022 | nobody nobody\n",
      "Jan 17 07:00 2022 | ailishkavanagh jeromereid nobody\n",
      "Jan 17 23:59 2022 | nobody nobody\n",
      "Jan 18 07:00 2022 | paglioni jeromereid nobody\n",
      "Jan 18 23:59 2022 | nobody nobody\n",
      "Jan 19 07:00 2022 | rbvaidyanathan jeromereid nobody\n",
      "Jan 19 23:59 2022 | nobody nobody\n",
      "Jan 20 07:00 2022 | rihabayachi jeromereid nobody\n",
      "Jan 20 23:59 2022 | nobody nobody\n",
      "Jan 21 07:00 2022 | marcialr jeromereid nobody\n",
      "Jan 21 23:59 2022 | nobody nobody\n",
      "Jan 22 07:00 2022 | momonir jeromereid nobody\n",
      "Jan 22 23:59 2022 | nobody nobody\n",
      "Jan 23 07:00 2022 | ailishkavanagh jeromereid nobody\n",
      "Jan 23 23:59 2022 | nobody nobody\n",
      "Jan 24 07:00 2022 | paglioni jeromereid nobody\n",
      "Jan 24 23:59 2022 | nobody nobody\n",
      "Jan 25 07:00 2022 | rbvaidyanathan jeromereid nobody\n",
      "Jan 25 23:59 2022 | nobody nobody\n",
      "Jan 26 07:00 2022 | rihabayachi jeromereid nobody\n",
      "Jan 26 23:59 2022 | nobody nobody\n",
      "Jan 27 07:00 2022 | marcialr jeromereid nobody\n",
      "Jan 27 23:59 2022 | nobody nobody\n",
      "Jan 28 07:00 2022 | momonir jeromereid nobody\n",
      "Jan 28 23:59 2022 | nobody nobody\n",
      "Jan 29 07:00 2022 | ailishkavanagh jeromereid nobody\n",
      "Jan 29 23:59 2022 | nobody nobody\n",
      "Jan 30 07:00 2022 | paglioni jeromereid nobody\n",
      "Jan 30 23:59 2022 | nobody nobody\n",
      "Jan 31 07:00 2022 | rbvaidyanathan jeromereid nobody\n",
      "Jan 31 23:59 2022 | nobody nobody\n"
     ]
    }
   ],
   "source": [
    "pipol = \"\"\"rubenvales \n",
    "vmarin \n",
    "agvishal \n",
    "rbvaidyanathan \n",
    "rihabayachi \n",
    "marcialr \n",
    "momonir\n",
    "ailishkavanagh \n",
    "paglioni\"\"\".split()\n",
    "\n",
    "pipol = \"\"\"rbvaidyanathan \n",
    "rihabayachi \n",
    "marcialr \n",
    "momonir\n",
    "ailishkavanagh \n",
    "paglioni\"\"\".split()\n",
    "\n",
    "from itertools import cycle\n",
    "\n",
    "def pgen():\n",
    "    for dir in cycle([\"dir_1\", \"dir_2\", \"dir_n\"]):\n",
    "        for p in cycle(pipol):\n",
    "            yield p\n",
    "one = pgen()\n",
    "for i in range(1,32):\n",
    "    print(\"\"\"Jan %d 07:00 2022 | %s jeromereid nobody\n",
    "Jan %d 23:59 2022 | nobody nobody\"\"\" %(i,next(one),i) )\n"
   ]
  },
  {
   "cell_type": "code",
   "execution_count": 2,
   "id": "b07b1875-c217-4d04-9314-f4a599f8e57b",
   "metadata": {},
   "outputs": [],
   "source": [
    "n= object()"
   ]
  },
  {
   "cell_type": "code",
   "execution_count": 3,
   "id": "57b208ed-1941-408f-845c-a0ce0568d478",
   "metadata": {},
   "outputs": [
    {
     "ename": "AttributeError",
     "evalue": "'object' object has no attribute 'yy'",
     "output_type": "error",
     "traceback": [
      "\u001b[0;31m---------------------------------------------------------------------------\u001b[0m",
      "\u001b[0;31mAttributeError\u001b[0m                            Traceback (most recent call last)",
      "Input \u001b[0;32mIn [3]\u001b[0m, in \u001b[0;36m<cell line: 1>\u001b[0;34m()\u001b[0m\n\u001b[0;32m----> 1\u001b[0m n\u001b[38;5;241m.\u001b[39myy \u001b[38;5;241m=\u001b[39m \u001b[38;5;241m343\u001b[39m\n",
      "\u001b[0;31mAttributeError\u001b[0m: 'object' object has no attribute 'yy'"
     ]
    }
   ],
   "source": [
    "n.yy = 343\n"
   ]
  },
  {
   "cell_type": "code",
   "execution_count": null,
   "id": "2faf3276-33cf-46df-97b4-7a52a119337a",
   "metadata": {},
   "outputs": [],
   "source": []
  }
 ],
 "metadata": {
  "kernelspec": {
   "display_name": "Python 3 (ipykernel)",
   "language": "python",
   "name": "python3"
  },
  "language_info": {
   "codemirror_mode": {
    "name": "ipython",
    "version": 3
   },
   "file_extension": ".py",
   "mimetype": "text/x-python",
   "name": "python",
   "nbconvert_exporter": "python",
   "pygments_lexer": "ipython3",
   "version": "3.9.10"
  }
 },
 "nbformat": 4,
 "nbformat_minor": 5
}
