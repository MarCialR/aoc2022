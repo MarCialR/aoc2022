{
 "cells": [
  {
   "cell_type": "code",
   "execution_count": 45,
   "id": "bdfe90d2-998e-4543-84fb-eb5dabfb750b",
   "metadata": {},
   "outputs": [],
   "source": [
    "from get_puzzle import get_data\n",
    "\n",
    "TODAY = 2\n",
    "data = get_data(TODAY)"
   ]
  },
  {
   "cell_type": "code",
   "execution_count": 63,
   "id": "b175c2b3-5753-4d76-b80a-eed1dfb67ba4",
   "metadata": {},
   "outputs": [
    {
     "name": "stdout",
     "output_type": "stream",
     "text": [
      "Total score if following strategy guide is: 14827\n"
     ]
    }
   ],
   "source": [
    "guide = [ line.split() for line in data]\n",
    "\n",
    "def substitute(char):\n",
    "    assert char in ['X','Y','Z','A','B','C']\n",
    "    if char in [\"A\",\"X\"]:\n",
    "        return 1\n",
    "    if char in [\"B\",\"Y\"]:\n",
    "        return 2\n",
    "    if char in [\"C\",\"Z\"]:\n",
    "        return 3\n",
    "guide_m = [ (substitute(e[0]),substitute(e[1])) for e in guide]\n",
    "matches = {(1,1):(4,4),\n",
    "           (1,2):(1,8),\n",
    "           (1,3):(7,3),\n",
    "           (2,2):(5,5),\n",
    "           (2,1):(8,1),\n",
    "           (2,3):(2,9),\n",
    "           (3,3):(6,6),\n",
    "           (3,1):(3,7),\n",
    "           (3,2):(9,2)\n",
    "          }\n",
    "def play_round(match):\n",
    "    return matches[match]\n",
    "\n",
    "total_score = sum( match[1] for match in [play_round(m) for m in guide_m])\n",
    "print ( \"Total score if following strategy guide is: \" + str(total_score))\n",
    "    "
   ]
  },
  {
   "cell_type": "markdown",
   "id": "d9bad92a-1f9a-4283-b7e1-00756599590e",
   "metadata": {},
   "source": [
    "\n",
    "The Elf finishes helping with the tent and sneaks back over to you.  \n",
    "_\"Anyway, the second column says how the round needs to end: X means you need to lose, Y means you need to end the round in a draw, and Z means you need to win. Good luck!\"_  \n",
    "The total score is still calculated in the same way, but now you need to figure out what shape to choose so the round ends as indicated. The example above now goes like this:  \n",
    "In the first round, your opponent will choose Rock (A), and you need the round to end in a draw (Y), so you also choose Rock. This gives you a score of 1 + 3 = 4.\n",
    "In the second round, your opponent will choose Paper (B), and you choose Rock so you lose (X) with a score of 1 + 0 = 1.  \n",
    "In the third round, you will defeat your opponent's Scissors with Rock for a score of 1 + 6 = 7.  \n",
    "Now that you're correctly decrypting the ultra top secret strategy guide, you would get a total score of 12.  \n",
    "Following the Elf's instructions for the second column, **what would your total score be if everything goes exactly according to your strategy guide?**\n"
   ]
  },
  {
   "cell_type": "code",
   "execution_count": 65,
   "id": "69fd6d58-b6fa-4520-a7c1-da00189d6e05",
   "metadata": {},
   "outputs": [
    {
     "name": "stdout",
     "output_type": "stream",
     "text": [
      "Total score if forcing results is: 5573\n"
     ]
    }
   ],
   "source": [
    "guide = [ line.split() for line in data]\n",
    "\n",
    "guide_m = [ (substitute(e[0]),substitute(e[1])) for e in guide]\n",
    "results_to_matches = {(1,1):(1,3),\n",
    "           (1,2):(1,1),\n",
    "           (1,3):(1,2),\n",
    "           (2,2):(2,2),\n",
    "           (2,1):(2,1),\n",
    "           (2,3):(2,3),\n",
    "           (3,3):(3,1),\n",
    "           (3,1):(3,2),\n",
    "           (3,2):(3,3)\n",
    "          }\n",
    "def play_round(match):\n",
    "    return matches[match]\n",
    "\n",
    "matches = [results_to_matches[result] for result in guide_m]\n",
    "total_score = sum( match[1] for match in matches)\n",
    "print ( \"Total score if forcing results is: \" + str(total_score))\n",
    "\n"
   ]
  },
  {
   "cell_type": "code",
   "execution_count": null,
   "id": "7a104bc6-5516-4c10-a872-f87a370cd5d9",
   "metadata": {},
   "outputs": [],
   "source": []
  },
  {
   "cell_type": "code",
   "execution_count": null,
   "id": "6fbf8a01-950d-4e39-8e15-c2fd74ce9b5b",
   "metadata": {},
   "outputs": [],
   "source": []
  },
  {
   "cell_type": "code",
   "execution_count": null,
   "id": "11b8b94f-f993-4da5-950d-3ffbc284d7ef",
   "metadata": {},
   "outputs": [],
   "source": []
  },
  {
   "cell_type": "code",
   "execution_count": null,
   "id": "704642c8-ae5c-4f14-bbe4-032a55c0668f",
   "metadata": {},
   "outputs": [],
   "source": []
  },
  {
   "cell_type": "code",
   "execution_count": null,
   "id": "dfdfa17d-fa39-4752-8210-4a7aa9457592",
   "metadata": {},
   "outputs": [],
   "source": []
  },
  {
   "cell_type": "code",
   "execution_count": null,
   "id": "c1701c49-d2e9-4eb6-9459-20f874c59fe8",
   "metadata": {},
   "outputs": [],
   "source": []
  },
  {
   "cell_type": "code",
   "execution_count": null,
   "id": "f40bad78-a007-4b19-9332-b60799ac8c5d",
   "metadata": {},
   "outputs": [],
   "source": []
  },
  {
   "cell_type": "code",
   "execution_count": 10,
   "id": "37b82288-b397-48d7-96f0-9e63c810ec17",
   "metadata": {},
   "outputs": [
    {
     "name": "stdout",
     "output_type": "stream",
     "text": [
      "Jan 1 07:00 2022 | rbvaidyanathan jeromereid nobody\n",
      "Jan 1 23:59 2022 | nobody nobody\n",
      "Jan 2 07:00 2022 | rihabayachi jeromereid nobody\n",
      "Jan 2 23:59 2022 | nobody nobody\n",
      "Jan 3 07:00 2022 | marcialr jeromereid nobody\n",
      "Jan 3 23:59 2022 | nobody nobody\n",
      "Jan 4 07:00 2022 | momonir jeromereid nobody\n",
      "Jan 4 23:59 2022 | nobody nobody\n",
      "Jan 5 07:00 2022 | ailishkavanagh jeromereid nobody\n",
      "Jan 5 23:59 2022 | nobody nobody\n",
      "Jan 6 07:00 2022 | paglioni jeromereid nobody\n",
      "Jan 6 23:59 2022 | nobody nobody\n",
      "Jan 7 07:00 2022 | rbvaidyanathan jeromereid nobody\n",
      "Jan 7 23:59 2022 | nobody nobody\n",
      "Jan 8 07:00 2022 | rihabayachi jeromereid nobody\n",
      "Jan 8 23:59 2022 | nobody nobody\n",
      "Jan 9 07:00 2022 | marcialr jeromereid nobody\n",
      "Jan 9 23:59 2022 | nobody nobody\n",
      "Jan 10 07:00 2022 | momonir jeromereid nobody\n",
      "Jan 10 23:59 2022 | nobody nobody\n",
      "Jan 11 07:00 2022 | ailishkavanagh jeromereid nobody\n",
      "Jan 11 23:59 2022 | nobody nobody\n",
      "Jan 12 07:00 2022 | paglioni jeromereid nobody\n",
      "Jan 12 23:59 2022 | nobody nobody\n",
      "Jan 13 07:00 2022 | rbvaidyanathan jeromereid nobody\n",
      "Jan 13 23:59 2022 | nobody nobody\n",
      "Jan 14 07:00 2022 | rihabayachi jeromereid nobody\n",
      "Jan 14 23:59 2022 | nobody nobody\n",
      "Jan 15 07:00 2022 | marcialr jeromereid nobody\n",
      "Jan 15 23:59 2022 | nobody nobody\n",
      "Jan 16 07:00 2022 | momonir jeromereid nobody\n",
      "Jan 16 23:59 2022 | nobody nobody\n",
      "Jan 17 07:00 2022 | ailishkavanagh jeromereid nobody\n",
      "Jan 17 23:59 2022 | nobody nobody\n",
      "Jan 18 07:00 2022 | paglioni jeromereid nobody\n",
      "Jan 18 23:59 2022 | nobody nobody\n",
      "Jan 19 07:00 2022 | rbvaidyanathan jeromereid nobody\n",
      "Jan 19 23:59 2022 | nobody nobody\n",
      "Jan 20 07:00 2022 | rihabayachi jeromereid nobody\n",
      "Jan 20 23:59 2022 | nobody nobody\n",
      "Jan 21 07:00 2022 | marcialr jeromereid nobody\n",
      "Jan 21 23:59 2022 | nobody nobody\n",
      "Jan 22 07:00 2022 | momonir jeromereid nobody\n",
      "Jan 22 23:59 2022 | nobody nobody\n",
      "Jan 23 07:00 2022 | ailishkavanagh jeromereid nobody\n",
      "Jan 23 23:59 2022 | nobody nobody\n",
      "Jan 24 07:00 2022 | paglioni jeromereid nobody\n",
      "Jan 24 23:59 2022 | nobody nobody\n",
      "Jan 25 07:00 2022 | rbvaidyanathan jeromereid nobody\n",
      "Jan 25 23:59 2022 | nobody nobody\n",
      "Jan 26 07:00 2022 | rihabayachi jeromereid nobody\n",
      "Jan 26 23:59 2022 | nobody nobody\n",
      "Jan 27 07:00 2022 | marcialr jeromereid nobody\n",
      "Jan 27 23:59 2022 | nobody nobody\n",
      "Jan 28 07:00 2022 | momonir jeromereid nobody\n",
      "Jan 28 23:59 2022 | nobody nobody\n",
      "Jan 29 07:00 2022 | ailishkavanagh jeromereid nobody\n",
      "Jan 29 23:59 2022 | nobody nobody\n",
      "Jan 30 07:00 2022 | paglioni jeromereid nobody\n",
      "Jan 30 23:59 2022 | nobody nobody\n",
      "Jan 31 07:00 2022 | rbvaidyanathan jeromereid nobody\n",
      "Jan 31 23:59 2022 | nobody nobody\n"
     ]
    }
   ],
   "source": [
    "pipol = \"\"\"rubenvales \n",
    "vmarin \n",
    "agvishal \n",
    "rbvaidyanathan \n",
    "rihabayachi \n",
    "marcialr \n",
    "momonir\n",
    "ailishkavanagh \n",
    "paglioni\"\"\".split()\n",
    "\n",
    "pipol = \"\"\"rbvaidyanathan \n",
    "rihabayachi \n",
    "marcialr \n",
    "momonir\n",
    "ailishkavanagh \n",
    "paglioni\"\"\".split()\n",
    "\n",
    "from itertools import cycle\n",
    "\n",
    "def pgen():\n",
    "    for dir in cycle([\"dir_1\", \"dir_2\", \"dir_n\"]):\n",
    "        for p in cycle(pipol):\n",
    "            yield p\n",
    "one = pgen()\n",
    "for i in range(1,32):\n",
    "    print(\"\"\"Jan %d 07:00 2022 | %s jeromereid nobody\n",
    "Jan %d 23:59 2022 | nobody nobody\"\"\" %(i,next(one),i) )\n"
   ]
  },
  {
   "cell_type": "code",
   "execution_count": 2,
   "id": "b07b1875-c217-4d04-9314-f4a599f8e57b",
   "metadata": {},
   "outputs": [],
   "source": [
    "n= object()"
   ]
  },
  {
   "cell_type": "code",
   "execution_count": 3,
   "id": "57b208ed-1941-408f-845c-a0ce0568d478",
   "metadata": {},
   "outputs": [
    {
     "ename": "AttributeError",
     "evalue": "'object' object has no attribute 'yy'",
     "output_type": "error",
     "traceback": [
      "\u001b[0;31m---------------------------------------------------------------------------\u001b[0m",
      "\u001b[0;31mAttributeError\u001b[0m                            Traceback (most recent call last)",
      "Input \u001b[0;32mIn [3]\u001b[0m, in \u001b[0;36m<cell line: 1>\u001b[0;34m()\u001b[0m\n\u001b[0;32m----> 1\u001b[0m n\u001b[38;5;241m.\u001b[39myy \u001b[38;5;241m=\u001b[39m \u001b[38;5;241m343\u001b[39m\n",
      "\u001b[0;31mAttributeError\u001b[0m: 'object' object has no attribute 'yy'"
     ]
    }
   ],
   "source": [
    "n.yy = 343\n"
   ]
  },
  {
   "cell_type": "code",
   "execution_count": null,
   "id": "2faf3276-33cf-46df-97b4-7a52a119337a",
   "metadata": {},
   "outputs": [],
   "source": []
  }
 ],
 "metadata": {
  "kernelspec": {
   "display_name": "Python 3 (ipykernel)",
   "language": "python",
   "name": "python3"
  },
  "language_info": {
   "codemirror_mode": {
    "name": "ipython",
    "version": 3
   },
   "file_extension": ".py",
   "mimetype": "text/x-python",
   "name": "python",
   "nbconvert_exporter": "python",
   "pygments_lexer": "ipython3",
   "version": "3.9.10"
  }
 },
 "nbformat": 4,
 "nbformat_minor": 5
}
