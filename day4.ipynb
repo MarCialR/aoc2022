{
 "cells": [
  {
   "cell_type": "code",
   "execution_count": 1,
   "id": "8e7ad744-d154-48c9-a69b-f4454a0bc305",
   "metadata": {},
   "outputs": [
    {
     "data": {
      "text/markdown": [
       "## --- Day 4: Camp Cleanup ---\n",
       "\n",
       "\n",
       "Space needs to be cleared before the last supplies can be unloaded from the ships, and so several Elves have been assigned the job of cleaning up sections of the camp. Every section has a unique **ID number** , and each Elf is assigned a range of section IDs.\n",
       "\n",
       "\n",
       "However, as some of the Elves compare their section assignments with each other, they've noticed that many of the assignments **overlap** . To try to quickly find overlaps and reduce duplicated effort, the Elves pair up and make a **big list of the section assignments for each pair** (your puzzle input).\n",
       "\n",
       "\n",
       "For example, consider the following list of section assignment pairs:\n",
       "\n",
       "\n",
       "```\n",
       " 2-4,6-8\n",
       " 2-3,4-5\n",
       " 5-7,7-9\n",
       " 2-8,3-7\n",
       " 6-6,4-6\n",
       " 2-6,4-8\n",
       "\n",
       "```\n",
       "\n",
       "\n",
       "For the first few pairs, this list means:\n",
       "\n",
       "\n",
       "+ Within the first pair of Elves, the first Elf was assigned sections2-4``(sections2``,3``, and4``), while the second Elf was assigned sections6-8``(sections6``,7``,8``).\n",
       "+ The Elves in the second pair were each assigned two sections.\n",
       "+ The Elves in the third pair were each assigned three sections: one got sections5``,6``, and7``, while the other also got7``, plus8``and9``.\n",
       "\n",
       "\n",
       "This example list uses single-digit section IDs to make it easier to draw; your actual list might contain larger numbers. Visually, these pairs of section assignments look like this:\n",
       "\n",
       "\n",
       "```\n",
       " .234.....  2-4\n",
       " .....678.  6-8\n",
       " \n",
       " .23......  2-3\n",
       " ...45....  4-5\n",
       " \n",
       " ....567..  5-7\n",
       " ......789  7-9\n",
       " \n",
       " .2345678.  2-8\n",
       " ..34567..  3-7\n",
       " \n",
       " .....6...  6-6\n",
       " ...456...  4-6\n",
       " \n",
       " .23456...  2-6\n",
       " ...45678.  4-8\n",
       "\n",
       "```\n",
       "\n",
       "\n",
       "Some of the pairs have noticed that one of their assignments **fully contains** the other. For example,2-8``fully contains3-7``, and6-6``is fully contained by4-6``. In pairs where one assignment fully contains the other, one Elf in the pair would be exclusively cleaning sections their partner will already be cleaning, so these seem like the most in need of reconsideration. In this example, there are2``such pairs.\n",
       "\n",
       "\n",
       " **In how many assignment pairs does one range fully contain the other?** \n",
       "\n",
       "\n"
      ]
     },
     "metadata": {},
     "output_type": "display_data"
    }
   ],
   "source": [
    "from tools import get_puzzle, show_puzzle\n",
    "TODAY = 4\n",
    "puzzle = get_puzzle(TODAY)\n",
    "show_puzzle(puzzle)"
   ]
  },
  {
   "cell_type": "code",
   "execution_count": 10,
   "id": "5163c32f-f17c-40d3-b3fb-eaafe20dd5c6",
   "metadata": {},
   "outputs": [],
   "source": [
    "def oneIncluthesOther(a,b):\n",
    "    a1,a2 = a.split(\"-\")\n",
    "    b1,b2 = b.split(\"-\")\n",
    "    a1,a2,b1,b2 = int(a1),int(a2),int(b1),int(b2)\n",
    "    #print(str(a)+ \"    \" + str(b))\n",
    "    if a1<= b1 and a2 >= b2:\n",
    "        return True\n",
    "    if b1<= a1 and b2 >= a2:\n",
    "        return True\n",
    "    return False\n",
    "\n",
    "def overlaps(a,b):\n",
    "    a1,a2 = a.split(\"-\")\n",
    "    b1,b2 = b.split(\"-\")\n",
    "    a1,a2,b1,b2 = int(a1),int(a2),int(b1),int(b2)\n",
    "    #print(str(a)+ \"    \" + str(b))\n",
    "    if b1<= a1<= b2 or  b1<= a2<= b2 or        a1<= b1<= a2 or         a1<= b2<= a2:\n",
    "        return True\n",
    "    return False\n",
    "\n",
    "t1 = [\"2-8\",\"1-1\"]\n",
    "assert oneIncluthesOther(*t1) == False\n",
    "assert overlaps(*t1) == False\n",
    "\n",
    "t2 = [\"2-8\",\"1-7\"]\n",
    "assert oneIncluthesOther(*t2) == False\n",
    "assert overlaps(*t2) == True\n",
    "\n",
    "t3 = [\"2-8\",\"3-7\"]\n",
    "assert oneIncluthesOther(*t3) == True\n",
    "assert overlaps(*t3) == True\n",
    "\n",
    "t4 = [\"2-8\",\"4-9\"]\n",
    "assert oneIncluthesOther(*t4) == False\n",
    "assert overlaps(*t4) == True\n",
    "\n",
    "t5 = [\"2-8\",\"9-10\"]\n",
    "assert oneIncluthesOther(*t5) == False\n",
    "assert overlaps(*t5) == False\n",
    "\n",
    "t6 = [\"2-8\",\"2-7\"]\n",
    "assert oneIncluthesOther(*t6) == True\n",
    "assert overlaps(*t6) == True\n",
    "\n",
    "t7 = [\"2-8\",\"3-8\"]\n",
    "assert oneIncluthesOther(*t7) == True\n",
    "assert overlaps(*t7) == True\n",
    "\n",
    "t8 = [\"1-1\",\"2-8\"]\n",
    "assert oneIncluthesOther(*t8) == False\n",
    "assert overlaps(*t8) == False\n",
    "\n",
    "t9 = [\"1-7\",\"2-8\"]\n",
    "assert oneIncluthesOther(*t9) == False\n",
    "assert overlaps(*t9) == True\n",
    "\n",
    "t10 = [\"3-7\",\"2-8\"]\n",
    "assert oneIncluthesOther(*t10) == True\n",
    "assert overlaps(*t10) == True\n",
    "\n",
    "t11 = [\"4-9\",\"2-8\"]\n",
    "assert oneIncluthesOther(*t11) == False\n",
    "assert overlaps(*t11) == True\n",
    "\n",
    "t12 = [\"9-10\",\"2-8\"]\n",
    "assert oneIncluthesOther(*t12) == False\n",
    "assert overlaps(*t12) == False\n",
    "\n",
    "t13 = [\"20-87\", \"20-88\"]\n",
    "assert oneIncluthesOther(*t13) == True\n",
    "assert overlaps(*t13) == True\n",
    "\n",
    "t14 = [\"7-25\", \"24-48\"]\n",
    "assert oneIncluthesOther(*t14) == False\n",
    "assert overlaps(*t14) == True\n",
    "\n",
    "\n"
   ]
  },
  {
   "cell_type": "code",
   "execution_count": 12,
   "id": "6f5ca98b-8b41-4637-bb10-03c0d88de811",
   "metadata": {
    "tags": []
   },
   "outputs": [
    {
     "name": "stdout",
     "output_type": "stream",
     "text": [
      "Solution 1: 536\n"
     ]
    }
   ],
   "source": [
    "pairs = [raw.split(\",\")  for raw in puzzle.data ]\n",
    "print (f\"Solution 1: {sum([oneIncluthesOther(*pair) for pair in pairs])}\")"
   ]
  },
  {
   "cell_type": "raw",
   "id": "99b0ad4a-a8bf-42af-a019-0541c8210c68",
   "metadata": {},
   "source": [
    "--- Part Two ---\n",
    "It seems like there is still quite a bit of duplicate work planned. Instead, the Elves would like to know the number of pairs that overlap at all.\n",
    "\n",
    "In the above example, the first two pairs (2-4,6-8 and 2-3,4-5) don't overlap, while the remaining four pairs (5-7,7-9, 2-8,3-7, 6-6,4-6, and 2-6,4-8) do overlap:\n",
    "\n",
    "5-7,7-9 overlaps in a single section, 7.\n",
    "2-8,3-7 overlaps all of the sections 3 through 7.\n",
    "6-6,4-6 overlaps in a single section, 6.\n",
    "2-6,4-8 overlaps in sections 4, 5, and 6.\n",
    "So, in this example, the number of overlapping assignment pairs is 4.\n",
    "\n",
    "In how many assignment pairs do the ranges overlap?"
   ]
  },
  {
   "cell_type": "code",
   "execution_count": 13,
   "id": "d924a73b-d627-4dee-a5fb-d2234080fc08",
   "metadata": {},
   "outputs": [
    {
     "name": "stdout",
     "output_type": "stream",
     "text": [
      "Solution part 2: 845\n"
     ]
    }
   ],
   "source": [
    "print (f\"Solution part 2: {sum([overlaps(*pair) for pair in pairs])}\")"
   ]
  }
 ],
 "metadata": {
  "kernelspec": {
   "display_name": "Python 3 (ipykernel)",
   "language": "python",
   "name": "python3"
  },
  "language_info": {
   "codemirror_mode": {
    "name": "ipython",
    "version": 3
   },
   "file_extension": ".py",
   "mimetype": "text/x-python",
   "name": "python",
   "nbconvert_exporter": "python",
   "pygments_lexer": "ipython3",
   "version": "3.9.10"
  }
 },
 "nbformat": 4,
 "nbformat_minor": 5
}
