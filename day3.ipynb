{
 "cells": [
  {
   "cell_type": "code",
   "execution_count": 3,
   "id": "2cb3aa46-eb3a-46d3-8986-120b9f8e4db1",
   "metadata": {
    "tags": []
   },
   "outputs": [
    {
     "data": {
      "text/markdown": [
       "## --- Day 3: Rucksack Reorganization ---\n",
       "\n",
       "\n",
       "One Elf has the important job of loading all of the [rucksacks](https://en.wikipedia.org/wiki/Rucksack) with supplies for thejunglejourney. Unfortunately, that Elf didn't quite follow the packing instructions, and so a few items now need to be rearranged.\n",
       "\n",
       "\n",
       "Each rucksack has two large **compartments** . All items of a given type are meant to go into exactly one of the two compartments. The Elf that did the packing failed to follow this rule for exactly one item type per rucksack.\n",
       "\n",
       "\n",
       "The Elves have made a list of all of the items currently in each rucksack (your puzzle input), but they need your help finding the errors. Every item type is identified by a single lowercase or uppercase letter (that is,a``andA``refer to different types of items).\n",
       "\n",
       "\n",
       "The list of items for each rucksack is given as characters all on a single line. A given rucksack always has the same number of items in each of its two compartments, so the first half of the characters represent items in the first compartment, while the second half of the characters represent items in the second compartment.\n",
       "\n",
       "\n",
       "For example, suppose you have the following list of contents from six rucksacks:\n",
       "\n",
       "\n",
       "```\n",
       " vJrwpWtwJgWrhcsFMMfFFhFp\n",
       " jqHRNqRjqzjGDLGLrsFMfFZSrLrFZsSL\n",
       " PmmdzqPrVvPwwTWBwg\n",
       " wMqvLMZHhHMvwLHjbvcjnnSBnvTQFn\n",
       " ttgJtRGJQctTZtZT\n",
       " CrZsJsPPZsGzwwsLwLmpwMDw\n",
       "\n",
       "```\n",
       "\n",
       "\n",
       "+ The first rucksack contains the itemsvJrwpWtwJgWrhcsFMMfFFhFp``, which means its first compartment contains the itemsvJrwpWtwJgWr``, while the second compartment contains the itemshcsFMMfFFhFp``. The only item type that appears in both compartments is lowercasep``.\n",
       "+ The second rucksack's compartments containjqHRNqRjqzjGDLGL``andrsFMfFZSrLrFZsSL``. The only item type that appears in both compartments is uppercaseL``.\n",
       "+ The third rucksack's compartments containPmmdzqPrV``andvPwwTWBwg``; the only common item type is uppercaseP``.\n",
       "+ The fourth rucksack's compartments only share item typev``.\n",
       "+ The fifth rucksack's compartments only share item typet``.\n",
       "+ The sixth rucksack's compartments only share item types``.\n",
       "\n",
       "\n",
       "To help prioritize item rearrangement, every item type can be converted to a **priority** :\n",
       "\n",
       "\n",
       "+ Lowercase item typesa``throughz``have priorities 1 through 26.\n",
       "+ Uppercase item typesA``throughZ``have priorities 27 through 52.\n",
       "\n",
       "\n",
       "In the above example, the priority of the item type that appears in both compartments of each rucksack is 16 (p``), 38 (L``), 42 (P``), 22 (v``), 20 (t``), and 19 (s``); the sum of these is157``.\n",
       "\n",
       "\n",
       "Find the item type that appears in both compartments of each rucksack. **What is the sum of the priorities of those item types?** \n",
       "\n",
       "\n"
      ]
     },
     "metadata": {},
     "output_type": "display_data"
    }
   ],
   "source": [
    "from tools import get_puzzle\n",
    "\n",
    "TODAY = 3\n",
    "puzzle = get_puzzle(TODAY)"
   ]
  },
  {
   "cell_type": "code",
   "execution_count": 9,
   "id": "a809367c-677b-4021-89a9-d662d196fbef",
   "metadata": {},
   "outputs": [
    {
     "data": {
      "text/plain": [
       "8185"
      ]
     },
     "execution_count": 9,
     "metadata": {},
     "output_type": "execute_result"
    }
   ],
   "source": [
    "rucksacks = puzzle.data\n",
    "\n",
    "test=\"\"\"vJrwpWtwJgWrhcsFMMfFFhFp\n",
    "jqHRNqRjqzjGDLGLrsFMfFZSrLrFZsSL\n",
    "PmmdzqPrVvPwwTWBwg\n",
    "wMqvLMZHhHMvwLHjbvcjnnSBnvTQFn\n",
    "ttgJtRGJQctTZtZT\n",
    "CrZsJsPPZsGzwwsLwLmpwMDw\"\"\"\n",
    "\n",
    "def chr_to_priority(char):\n",
    "    if char.isupper():\n",
    "        return ord(char)-38\n",
    "    return ord(char)-96\n",
    "#print ( \"A -> %s   a -> %s\" %( chr_to_priority(\"A\"), chr_to_priority(\"a\") ) )\n",
    "\n",
    "def find_common(a,b):\n",
    "    a= set(a)\n",
    "    b= set(b)\n",
    "    for e in b:\n",
    "        try:\n",
    "            a.remove(e)\n",
    "            return e\n",
    "        except KeyError:\n",
    "                pass\n",
    "        \n",
    "def solve(rucksack):\n",
    "    middle_index = int(len(rucksack)/2)\n",
    "    a = rucksack[:middle_index]\n",
    "    b = rucksack[middle_index:]\n",
    "    return find_common(a,b)\n",
    "\n",
    "sum([chr_to_priority(solve(r)) for r in rucksacks])"
   ]
  },
  {
   "cell_type": "markdown",
   "id": "73e028f6-a19d-4396-b47b-0214e598d8e5",
   "metadata": {},
   "source": [
    "**--- Part Two ---**  \n",
    "\n",
    "As you finish identifying the misplaced items, the Elves come to you with another issue.\n",
    "\n",
    "For safety, the Elves are divided into groups of three. Every Elf carries a badge that identifies their group. For efficiency, within each group of three Elves, the badge is the **only item type carried by all three Elves**. That is, if a group's badge is item type B, then all three Elves will have item type B somewhere in their rucksack, and at most two of the Elves will be carrying any other item type.\n",
    "\n",
    "The problem is that someone forgot to put this year's updated authenticity sticker on the badges. All of the badges need to be pulled out of the rucksacks so the new authenticity stickers can be attached.\n",
    "\n",
    "Additionally, nobody wrote down which item type corresponds to each group's badges. The only way to tell which item type is the right one is by finding the one item type that is **common between all three Elves in each group.**\n",
    "\n",
    "Every set of three lines in your list corresponds to a single group, but each group can have a different badge item type. So, in the above example, the first group's rucksacks are the first three lines:\n",
    "\n",
    "```\n",
    "vJrwpWtwJgWrhcsFMMfFFhFp  \n",
    "jqHRNqRjqzjGDLGLrsFMfFZSrLrFZsSL  \n",
    "PmmdzqPrVvPwwTWBwg\n",
    "``` \n",
    "And the second group's rucksacks are the next three lines:\n",
    "\n",
    "```\n",
    "wMqvLMZHhHMvwLHjbvcjnnSBnvTQFn  \n",
    "ttgJtRGJQctTZtZT  \n",
    "CrZsJsPPZsGzwwsLwLmpwMDw\n",
    "```\n",
    "\n",
    "In the first group, the only item type that appears in all three rucksacks is lowercase r; this must be their badges. In the second group, their badge item type must be Z.\n",
    "\n",
    "Priorities for these items must still be found to organize the sticker attachment efforts: here, they are 18 (r) for the first group and 52 (Z) for the second group. The sum of these is 70.\n",
    "\n",
    "Find the item type that corresponds to the badges of each three-Elf group. \n",
    "\n",
    "**What is the sum of the priorities of those item types?**"
   ]
  },
  {
   "cell_type": "code",
   "execution_count": 13,
   "id": "f8419ed5-f41a-4a9d-88c6-cb80c5f37734",
   "metadata": {},
   "outputs": [
    {
     "data": {
      "text/plain": [
       "2817"
      ]
     },
     "execution_count": 13,
     "metadata": {},
     "output_type": "execute_result"
    }
   ],
   "source": [
    "def find_commons(a,b):\n",
    "    a= set(a)\n",
    "    b= set(b)\n",
    "    result=[]\n",
    "    for e in b:\n",
    "        try:\n",
    "            a.remove(e)\n",
    "            result.append(e)\n",
    "        except KeyError:\n",
    "            pass\n",
    "    return result\n",
    "\n",
    "# We create the rucksack groups\n",
    "i = iter(rucksacks)\n",
    "groups = list(zip(i, i, i))\n",
    "\n",
    "#we compare first two rucksacks and the result with the third\n",
    "commons = [find_commons(find_commons(group[0], group[1]), group[2]) for group in groups]\n",
    "\n",
    "sum([chr_to_priority(e[0]) for e in commons])"
   ]
  },
  {
   "cell_type": "code",
   "execution_count": null,
   "id": "a88e689f-459e-4593-930a-7cc91074f938",
   "metadata": {},
   "outputs": [],
   "source": []
  }
 ],
 "metadata": {
  "kernelspec": {
   "display_name": "Python 3 (ipykernel)",
   "language": "python",
   "name": "python3"
  },
  "language_info": {
   "codemirror_mode": {
    "name": "ipython",
    "version": 3
   },
   "file_extension": ".py",
   "mimetype": "text/x-python",
   "name": "python",
   "nbconvert_exporter": "python",
   "pygments_lexer": "ipython3",
   "version": "3.9.10"
  }
 },
 "nbformat": 4,
 "nbformat_minor": 5
}
