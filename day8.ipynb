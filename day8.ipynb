{
 "cells": [
  {
   "cell_type": "code",
   "execution_count": 15,
   "id": "f97ed03f-0432-4f3e-b5f6-2d947bc508da",
   "metadata": {},
   "outputs": [
    {
     "data": {
      "text/markdown": [
       "## --- Day 8: Treetop Tree House ---\n",
       "\n",
       "\n",
       "The expedition comes across a peculiar patch of tall trees all planted carefully in a grid. The Elves explain that a previous expedition planted these trees as a reforestation effort. Now, they're curious if this would be a good location for a [tree house](https://en.wikipedia.org/wiki/Tree_house) .\n",
       "\n",
       "\n",
       "First, determine whether there is enough tree cover here to keep a tree house **hidden** . To do this, you need to count the number of trees that are **visible from outside the grid** when looking directly along a row or column.\n",
       "\n",
       "\n",
       "The Elves have already launched a [quadcopter](https://en.wikipedia.org/wiki/Quadcopter) to generate a map with the height of each tree (your puzzle input). For example:\n",
       "\n",
       "\n",
       "```\n",
       " 30373\n",
       " 25512\n",
       " 65332\n",
       " 33549\n",
       " 35390\n",
       "\n",
       "```\n",
       "\n",
       "\n",
       "Each tree is represented as a single digit whose value is its height, where0``is the shortest and9``is the tallest.\n",
       "\n",
       "\n",
       "A tree is **visible** if all of the other trees between it and an edge of the grid are **shorter** than it. Only consider trees in the same row or column; that is, only look up, down, left, or right from any given tree.\n",
       "\n",
       "\n",
       "All of the trees around the edge of the grid are **visible** - since they are already on the edge, there are no trees to block the view. In this example, that only leaves the **interior nine trees** to consider:\n",
       "\n",
       "\n",
       "+ The top-left5``is **visible** from the left and top. (It isn't visible from the right or bottom since other trees of height5``are in the way.)\n",
       "+ The top-middle5``is **visible** from the top and right.\n",
       "+ The top-right1``is not visible from any direction; for it to be visible, there would need to only be trees of height **0** between it and an edge.\n",
       "+ The left-middle5``is **visible** , but only from the right.\n",
       "+ The center3``is not visible from any direction; for it to be visible, there would need to be only trees of at most height2``between it and an edge.\n",
       "+ The right-middle3``is **visible** from the right.\n",
       "+ In the bottom row, the middle5``is **visible** , but the3``and4``are not.\n",
       "\n",
       "\n",
       "With 16 trees visible on the edge and another 5 visible in the interior, a total of21``trees are visible in this arrangement.\n",
       "\n",
       "\n",
       "Consider your map; **how many trees are visible from outside the grid?** \n",
       "\n",
       "\n"
      ]
     },
     "metadata": {},
     "output_type": "display_data"
    }
   ],
   "source": [
    "from tools import get_puzzle, show_problem_1\n",
    "TODAY = 8\n",
    "puzzle = get_puzzle(TODAY)\n",
    "show_problem_1(puzzle)"
   ]
  },
  {
   "cell_type": "code",
   "execution_count": 21,
   "id": "56008106-faa6-4b8d-bb4a-815603a32332",
   "metadata": {},
   "outputs": [],
   "source": [
    "test = \"\"\"30373\n",
    "25512\n",
    "65332\n",
    "33549\n",
    "35390\"\"\".splitlines()"
   ]
  },
  {
   "cell_type": "code",
   "execution_count": 116,
   "id": "103d7c6b-ed06-4556-95e9-af17484c1a29",
   "metadata": {},
   "outputs": [
    {
     "name": "stdout",
     "output_type": "stream",
     "text": [
      "Resut 1: there are 1287 visible trees in the inside matrix + 392 visible on the outside\n",
      "         which means a total of 1679 visible trees\n"
     ]
    }
   ],
   "source": [
    "DATA = test\n",
    "DATA = puzzle.data\n",
    "\n",
    "# both test and puzzle are square matrixes\n",
    "MATRIX_SIZE = len(DATA)\n",
    "\n",
    "# we define the tree visibility matrix as all False=0 while not proven otherwise\n",
    "visible = [[0 for i in range(MATRIX_SIZE)] for x in range(MATRIX_SIZE)]\n",
    "    \n",
    "   \n",
    "\n",
    "# WEST\n",
    "for row in range(MATRIX_SIZE):\n",
    "    greatest = int(DATA[row] [0])\n",
    "    for col in range(MATRIX_SIZE ):\n",
    "        tree = int(DATA[row][col]) \n",
    "        if tree > greatest:\n",
    "            visible [row][col] = 1\n",
    "            greatest = tree\n",
    "\n",
    "            \n",
    "#EAST\n",
    "for row in range(MATRIX_SIZE):\n",
    "    greatest = int( DATA[row] [MATRIX_SIZE-1])\n",
    "    for col in range(MATRIX_SIZE-1,0,-1 ):\n",
    "        tree = int(DATA[row][col])\n",
    "        if tree > greatest:\n",
    "            visible [row][col] = 1\n",
    "            greatest = tree\n",
    "\n",
    "#NORTH\n",
    "for col in range(MATRIX_SIZE):\n",
    "    greatest = int( DATA[0] [col])\n",
    "    for row in range(MATRIX_SIZE ):\n",
    "        tree = int(DATA[row][col])\n",
    "        if tree > greatest:\n",
    "            visible [row][col] = 1\n",
    "            greatest = tree\n",
    "\n",
    "#SOUTH\n",
    "for col in range(MATRIX_SIZE):\n",
    "    greatest = int( DATA[MATRIX_SIZE-1] [col])\n",
    "    for row in range(MATRIX_SIZE-1,0,-1 ):\n",
    "        tree = int(DATA[row][col])\n",
    "        if tree > greatest:\n",
    "            visible [row][col] = 1\n",
    "            greatest = tree\n",
    "\n",
    "visibles_on_the_outside = ((MATRIX_SIZE -2) * 4 ) + 4\n",
    "inside_matrix = [x[1:MATRIX_SIZE-1] for x in visible [1:MATRIX_SIZE-1]]\n",
    "num_visible_trees = sum(map(sum,inside_matrix))\n",
    "\n",
    "print (f\"Resut 1: there are {num_visible_trees} visible trees in the inside matrix + {visibles_on_the_outside} visible on the outside\")\n",
    "print (f\"         which means a total of {num_visible_trees + visibles_on_the_outside} visible trees\")"
   ]
  },
  {
   "cell_type": "code",
   "execution_count": 119,
   "id": "c5601a2e-241f-4b3c-97e3-bc75859e21b5",
   "metadata": {},
   "outputs": [
    {
     "data": {
      "text/markdown": [
       "## --- Part Two ---\n",
       "\n",
       "\n",
       "Content with the amount of tree cover available, the Elves just need to know the best spot to build their tree house: they would like to be able to see a lot of **trees** .\n",
       "\n",
       "\n",
       "To measure the viewing distance from a given tree, look up, down, left, and right from that tree; stop if you reach an edge or at the first tree that is the same height or taller than the tree under consideration. (If a tree is right on the edge, at least one of its viewing distances will be zero.)\n",
       "\n",
       "\n",
       "The Elves don't care about distant trees taller than those found by the rules above; the proposed tree house has large [eaves](https://en.wikipedia.org/wiki/Eaves) to keep it dry, so they wouldn't be able to see higher than the tree house anyway.\n",
       "\n",
       "\n",
       "In the example above, consider the middle5``in the second row:\n",
       "\n",
       "\n",
       "5```\n",
       " 30373\n",
       " 2512\n",
       " 65332\n",
       " 33549\n",
       " 35390\n",
       "\n",
       "```\n",
       "\n",
       "\n",
       "+ Looking up, its view is not blocked; it can see1``tree (of height3``).\n",
       "+ Looking left, its view is blocked immediately; it can see only1``tree (of height5``, right next to it).\n",
       "+ Looking right, its view is not blocked; it can see2``trees.\n",
       "+ Looking down, its view is blocked eventually; it can see2``trees (one of height3``, then the tree of height5``that blocks its view).\n",
       "\n",
       "\n",
       "A tree's **scenic score** is found by **multiplying together** its viewing distance in each of the four directions. For this tree, this is4``(found by multiplying1 * 1 * 2 * 2``).\n",
       "\n",
       "\n",
       "However, you can do even better: consider the tree of height5``in the middle of the fourth row:\n",
       "\n",
       "\n",
       "5```\n",
       " 30373\n",
       " 25512\n",
       " 65332\n",
       " 3349\n",
       " 35390\n",
       "\n",
       "```\n",
       "\n",
       "\n",
       "+ Looking up, its view is blocked at2``trees (by another tree with a height of5``).\n",
       "+ Looking left, its view is not blocked; it can see2``trees.\n",
       "+ Looking down, its view is also not blocked; it can see1``tree.\n",
       "+ Looking right, its view is blocked at2``trees (by a massive tree of height9``).\n",
       "\n",
       "\n",
       "This tree's scenic score is8``(2 * 2 * 1 * 2``); this is the ideal spot for the tree house.\n",
       "\n",
       "\n",
       "Consider each tree on your map. **What is the highest scenic score possible for any tree?** \n",
       "\n",
       "\n"
      ]
     },
     "metadata": {},
     "output_type": "display_data"
    }
   ],
   "source": [
    "from tools import show_problem_2\n",
    "show_problem_2(puzzle)\n"
   ]
  },
  {
   "cell_type": "code",
   "execution_count": 185,
   "id": "2fc2dc93-b603-436d-b434-f4a20a63aa70",
   "metadata": {},
   "outputs": [
    {
     "name": "stdout",
     "output_type": "stream",
     "text": [
      "536625\n"
     ]
    }
   ],
   "source": [
    "DATA = test\n",
    "DATA = puzzle.data\n",
    "\n",
    "# both test and puzzle are square matrixes\n",
    "MATRIX_SIZE = len(DATA)\n",
    "\n",
    "# we define the tree visibility matrix as all False=0 while not proven otherwise\n",
    "visible = [[[0,0,0,0] for i in range(MATRIX_SIZE)] for x in range(MATRIX_SIZE)]\n",
    "    \n",
    "for row in range(MATRIX_SIZE):\n",
    "    for col in range(MATRIX_SIZE ):    \n",
    "        dbg = False\n",
    "        if row == 1 and col ==2:\n",
    "            dbg = False\n",
    "        \n",
    "        tree = int(DATA[row][col]) \n",
    "        \n",
    "        if dbg:\n",
    "            print (f\" tree {tree}\")\n",
    "        \n",
    "        # RIGHT\n",
    "        for col2 in range(col+1, MATRIX_SIZE ):\n",
    "            visible [row][col][0] += 1\n",
    "            if dbg:\n",
    "                print (f\"RIGHT r:{row} c:{col }col2 {col2} data {int(DATA[row][col2])}  visible {visible [row][col][0]}\")\n",
    "                \n",
    "            if int(DATA[row][col2]) >= tree:\n",
    "                break\n",
    "\n",
    "        # LEFT  MAL\n",
    "        for col2 in range(col-1,-1,-1 ):\n",
    "            if dbg:\n",
    "                print (f\"LEFT col2 {col2} data {int(DATA[row][col2])}\")\n",
    "            visible [row][col][1] += 1\n",
    "            if int(DATA[row][col2]) >= tree:\n",
    "                break\n",
    "\n",
    "        # DOWN\n",
    "        for row2 in range(row+1, MATRIX_SIZE ):\n",
    "            if dbg:\n",
    "                print (f\"DOWN row2 {row2} data {int(DATA[row2][col])}\")            \n",
    "            visible [row][col][2] += 1\n",
    "            if int(DATA[row2][col]) >= tree:\n",
    "                break\n",
    "\n",
    "        # UP\n",
    "        for row2 in range(row-1, -1, -1 ):\n",
    "            if dbg:\n",
    "                print (f\"UP row2 {row2} data {int(DATA[row2][col])}\")\n",
    "            visible [row][col][3] += 1\n",
    "            if int(DATA[row2][col]) >= tree:\n",
    "                break\n",
    "\n",
    "\n",
    "def scenic_score (a,b,c,d):\n",
    "    return a*b*c*d\n",
    "\n",
    "\n",
    "\n",
    "scenic_score_matrix = [[scenic_score(*x) for x in row] for row in visible]\n",
    "\n",
    "_max, pos = 0 , (0,0)\n",
    "for i, row in enumerate(scenic_score_matrix):\n",
    "    for j, e in enumerate(row):\n",
    "        if e > _max:\n",
    "            _max = e\n",
    "            pos = (i,j)\n",
    "print (_max)"
   ]
  },
  {
   "cell_type": "code",
   "execution_count": 162,
   "id": "6fc3d40d-9c33-4b09-91b8-8fe4f5ddba9e",
   "metadata": {},
   "outputs": [
    {
     "data": {
      "text/plain": [
       "[[[2, 0, 2, 0], [1, 1, 1, 0], [1, 2, 1, 0], [1, 3, 4, 0], [0, 1, 3, 0]],\n",
       " [[1, 0, 1, 1], [1, 1, 1, 1], [2, 1, 2, 1], [1, 1, 1, 1], [0, 2, 1, 1]],\n",
       " [[4, 0, 2, 2], [3, 1, 2, 1], [1, 1, 1, 1], [1, 1, 1, 2], [0, 1, 1, 1]],\n",
       " [[1, 0, 1, 1], [1, 1, 1, 1], [2, 2, 1, 2], [1, 1, 1, 3], [0, 4, 1, 3]],\n",
       " [[1, 0, 0, 1], [2, 1, 0, 2], [1, 1, 0, 1], [1, 3, 0, 4], [0, 1, 0, 1]]]"
      ]
     },
     "execution_count": 162,
     "metadata": {},
     "output_type": "execute_result"
    }
   ],
   "source": []
  },
  {
   "cell_type": "code",
   "execution_count": 163,
   "id": "0a167cec-5c8e-49d3-96a1-6190b4e8637d",
   "metadata": {},
   "outputs": [
    {
     "data": {
      "text/plain": [
       "[[0, 0, 0, 0, 0],\n",
       " [0, 1, 4, 1, 0],\n",
       " [0, 6, 1, 2, 0],\n",
       " [0, 1, 8, 3, 0],\n",
       " [0, 0, 0, 0, 0]]"
      ]
     },
     "execution_count": 163,
     "metadata": {},
     "output_type": "execute_result"
    }
   ],
   "source": [
    "scenic_score_matrix"
   ]
  },
  {
   "cell_type": "code",
   "execution_count": 181,
   "id": "ca3115c3-f390-4e94-90ea-53040fec6d0e",
   "metadata": {},
   "outputs": [],
   "source": []
  },
  {
   "cell_type": "code",
   "execution_count": 182,
   "id": "25168ea1-5906-4eef-ac57-224cd9a8b278",
   "metadata": {},
   "outputs": [],
   "source": []
  },
  {
   "cell_type": "code",
   "execution_count": 183,
   "id": "da9f4906-f7f0-41db-bc2f-b0ee4c726c3d",
   "metadata": {},
   "outputs": [
    {
     "data": {
      "text/plain": [
       "8"
      ]
     },
     "execution_count": 183,
     "metadata": {},
     "output_type": "execute_result"
    }
   ],
   "source": [
    "_max\n"
   ]
  },
  {
   "cell_type": "code",
   "execution_count": 184,
   "id": "431943df-9691-43ee-8038-7c66c8f56963",
   "metadata": {},
   "outputs": [
    {
     "data": {
      "text/plain": [
       "(3, 2)"
      ]
     },
     "execution_count": 184,
     "metadata": {},
     "output_type": "execute_result"
    }
   ],
   "source": [
    "pos"
   ]
  },
  {
   "cell_type": "code",
   "execution_count": null,
   "id": "76a19fd4-57c5-4420-887e-01b469c9ffeb",
   "metadata": {},
   "outputs": [],
   "source": []
  }
 ],
 "metadata": {
  "kernelspec": {
   "display_name": "Python 3 (ipykernel)",
   "language": "python",
   "name": "python3"
  },
  "language_info": {
   "codemirror_mode": {
    "name": "ipython",
    "version": 3
   },
   "file_extension": ".py",
   "mimetype": "text/x-python",
   "name": "python",
   "nbconvert_exporter": "python",
   "pygments_lexer": "ipython3",
   "version": "3.9.10"
  }
 },
 "nbformat": 4,
 "nbformat_minor": 5
}
