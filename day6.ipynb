{
 "cells": [
  {
   "cell_type": "code",
   "execution_count": 2,
   "id": "8e7ad744-d154-48c9-a69b-f4454a0bc305",
   "metadata": {},
   "outputs": [
    {
     "data": {
      "text/markdown": [
       "## --- Day 6: Tuning Trouble ---\n",
       "\n",
       "\n",
       "The preparations are finally complete; you and the Elves leave camp on foot and begin to make your way toward the **star** fruit grove.\n",
       "\n",
       "\n",
       "As you move through the dense undergrowth, one of the Elves gives you a handheld **device** . He says that it has many fancy features, but the most important one to set up right now is the **communication system** .\n",
       "\n",
       "\n",
       "However, because he's heard you have [significant](/2016/day/6)  [experience](/2016/day/25)  [dealing](/2019/day/7)  [with](/2019/day/9)  [signal-based](/2019/day/16)  [systems](/2021/day/25) , he convinced the other Elves that it would be okay to give you their one malfunctioning device - surely you'll have no problem fixing it.\n",
       "\n",
       "\n",
       "As if inspired by comedic timing, the device emits a fewcolorful sparks.\n",
       "\n",
       "\n",
       "To be able to communicate with the Elves, the device needs to **lock on to their signal** . The signal is a series of seemingly-random characters that the device receives one at a time.\n",
       "\n",
       "\n",
       "To fix the communication system, you need to add a subroutine to the device that detects a **start-of-packet marker** in the datastream. In the protocol being used by the Elves, the start of a packet is indicated by a sequence of **four characters that are all different** .\n",
       "\n",
       "\n",
       "The device will send your subroutine a datastream buffer (your puzzle input); your subroutine needs to identify the first position where the four most recently received characters were all different. Specifically, it needs to report the number of characters from the beginning of the buffer to the end of the first such four-character marker.\n",
       "\n",
       "\n",
       "For example, suppose you receive the following datastream buffer:\n",
       "\n",
       "\n",
       "```\n",
       " mjqjpqmgbljsphdztnvjfqwrcgsmlb\n",
       "\n",
       "```\n",
       "\n",
       "\n",
       "After the first three characters (mjq``) have been received, there haven't been enough characters received yet to find the marker. The first time a marker could occur is after the fourth character is received, making the most recent four charactersmjqj``. Becausej``is repeated, this isn't a marker.\n",
       "\n",
       "\n",
       "The first time a marker appears is after the **seventh** character arrives. Once it does, the last four characters received arejpqm``, which are all different. In this case, your subroutine should report the value7``, because the first start-of-packet marker is complete after 7 characters have been processed.\n",
       "\n",
       "\n",
       "Here are a few more examples:\n",
       "\n",
       "\n",
       "+ bvwbjplbgvbhsrlpgdmjqwftvncz``: first marker after character5``\n",
       "+ nppdvjthqldpwncqszvftbrmjlhg``: first marker after character6``\n",
       "+ nznrnfrfntjfmvfwmzdfjlvtqnbhcprsg``: first marker after character10``\n",
       "+ zcfzfwzzqfrljwzlrfnpqdbhtmscgvjw``: first marker after character11``\n",
       "\n",
       "\n",
       " **How many characters need to be processed before the first start-of-packet marker is detected?** \n",
       "\n",
       "\n"
      ]
     },
     "metadata": {},
     "output_type": "display_data"
    }
   ],
   "source": [
    "from tools import get_puzzle, show_puzzle\n",
    "TODAY = 6\n",
    "puzzle = get_puzzle(TODAY)\n",
    "show_puzzle(puzzle)"
   ]
  },
  {
   "cell_type": "code",
   "execution_count": 24,
   "id": "06fd7f27-8bff-4b26-aa31-86cfa52cc494",
   "metadata": {},
   "outputs": [],
   "source": [
    "from collections import deque\n",
    "\n",
    "test1 = \"mjqjpqmgbljsphdztnvjfqwrcgsmlb\"\n",
    "test2 = \"bvwbjplbgvbhsrlpgdmjqwftvncz\"\n",
    "test3 = \"nppdvjthqldpwncqszvftbrmjlhg\"\n",
    "test4 = \"nznrnfrfntjfmvfwmzdfjlvtqnbhcprsg\"\n",
    "test5 = \"zcfzfwzzqfrljwzlrfnpqdbhtmscgvjw\"\n",
    "\n",
    "SIZE_OF_MARKER = 4\n",
    "\n",
    "def find_first_marker(data):\n",
    "    accum = deque()\n",
    "    for i in range(SIZE_OF_MARKER):\n",
    "        accum.append(data[i])\n",
    "    for i, _char in enumerate(data[SIZE_OF_MARKER:]):\n",
    "        if len(set(list(accum))) == SIZE_OF_MARKER:\n",
    "            return i+SIZE_OF_MARKER\n",
    "            break\n",
    "        accum.append(_char)\n",
    "        accum.popleft()\n",
    "    \n",
    "assert find_first_marker(test1) == 7    \n",
    "assert find_first_marker(test2) == 5\n",
    "assert find_first_marker(test3) == 6    \n",
    "assert find_first_marker(test4) == 10    \n",
    "assert find_first_marker(test5) == 11   "
   ]
  },
  {
   "cell_type": "code",
   "execution_count": 21,
   "id": "420592e8-72bb-42b0-be8e-c316d4ab3546",
   "metadata": {},
   "outputs": [
    {
     "name": "stdout",
     "output_type": "stream",
     "text": [
      "Solution: 1833 characters need to be processed\n"
     ]
    }
   ],
   "source": [
    "print(f\"Solution: {find_first_marker(puzzle.data[0])} characters need to be processed\")\n"
   ]
  },
  {
   "cell_type": "code",
   "execution_count": 25,
   "id": "56d9ea1e-6bab-4e76-a169-cbab3e6ea6d1",
   "metadata": {},
   "outputs": [],
   "source": [
    "test1 = \"mjqjpqmgbljsphdztnvjfqwrcgsmlb\"\n",
    "test2 = \"bvwbjplbgvbhsrlpgdmjqwftvncz\"\n",
    "test3 = \"nppdvjthqldpwncqszvftbrmjlhg\"\n",
    "test4 = \"nznrnfrfntjfmvfwmzdfjlvtqnbhcprsg\"\n",
    "test5 = \"zcfzfwzzqfrljwzlrfnpqdbhtmscgvjw\"\n",
    "\n",
    "SIZE_OF_MARKER = 14\n",
    "\n",
    "def find_first_marker(data):\n",
    "    accum = deque()\n",
    "    for i in range(SIZE_OF_MARKER):\n",
    "        accum.append(data[i])\n",
    "    for i, _char in enumerate(data[SIZE_OF_MARKER:]):\n",
    "        if len(set(list(accum))) == SIZE_OF_MARKER:\n",
    "            return i+SIZE_OF_MARKER\n",
    "            break\n",
    "        accum.append(_char)\n",
    "        accum.popleft()\n",
    "    \n",
    "assert find_first_marker(test1) == 19\n",
    "assert find_first_marker(test2) == 23\n",
    "assert find_first_marker(test3) == 23   \n",
    "assert find_first_marker(test4) == 29    \n",
    "assert find_first_marker(test5) == 26   "
   ]
  },
  {
   "cell_type": "code",
   "execution_count": 27,
   "id": "43d008e4-18e7-45c4-b7c6-3a955adc4458",
   "metadata": {},
   "outputs": [
    {
     "name": "stdout",
     "output_type": "stream",
     "text": [
      "Solution 2: 3425 characters need to be processed\n"
     ]
    }
   ],
   "source": [
    "print(f\"Solution 2: {find_first_marker(puzzle.data[0])} characters need to be processed\")"
   ]
  }
 ],
 "metadata": {
  "kernelspec": {
   "display_name": "Python 3 (ipykernel)",
   "language": "python",
   "name": "python3"
  },
  "language_info": {
   "codemirror_mode": {
    "name": "ipython",
    "version": 3
   },
   "file_extension": ".py",
   "mimetype": "text/x-python",
   "name": "python",
   "nbconvert_exporter": "python",
   "pygments_lexer": "ipython3",
   "version": "3.9.10"
  }
 },
 "nbformat": 4,
 "nbformat_minor": 5
}
